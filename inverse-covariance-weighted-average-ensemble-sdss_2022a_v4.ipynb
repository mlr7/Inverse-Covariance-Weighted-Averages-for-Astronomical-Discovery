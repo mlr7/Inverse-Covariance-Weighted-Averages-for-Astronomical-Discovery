{
 "cells": [
  {
   "cell_type": "code",
   "execution_count": null,
   "metadata": {},
   "outputs": [],
   "source": []
  },
  {
   "cell_type": "markdown",
   "metadata": {},
   "source": [
    "### Imports"
   ]
  },
  {
   "cell_type": "code",
   "execution_count": 1,
   "metadata": {},
   "outputs": [],
   "source": [
    "%matplotlib inline\n",
    "\n",
    "import numpy as np\n",
    "import pandas as pd\n",
    "\n",
    "import matplotlib.pyplot as plt\n",
    "import seaborn as sns\n",
    "#import plotly.express as px\n",
    "\n",
    "import xgboost as xgb\n",
    "\n",
    "from sklearn.model_selection import train_test_split\n",
    "\n",
    "from sklearn.svm import SVC\n",
    "from sklearn.ensemble import RandomForestClassifier\n",
    "from sklearn.neighbors import KNeighborsClassifier\n",
    "from sklearn.naive_bayes import GaussianNB\n",
    "\n",
    "from sklearn.linear_model import LogisticRegression\n",
    "from sklearn import tree\n",
    "\n",
    "from sklearn.metrics import log_loss, roc_auc_score, accuracy_score\n",
    "\n",
    "from sklearn import preprocessing"
   ]
  },
  {
   "cell_type": "markdown",
   "metadata": {},
   "source": [
    "### Data ingest"
   ]
  },
  {
   "cell_type": "code",
   "execution_count": 2,
   "metadata": {},
   "outputs": [
    {
     "name": "stdout",
     "output_type": "stream",
     "text": [
      "(100000, 18)\n",
      "Index(['objid', 'ra', 'dec', 'u', 'g', 'r', 'i', 'z', 'run', 'rerun', 'camcol',\n",
      "       'field', 'specobjid', 'class', 'redshift', 'plate', 'mjd', 'fiberid'],\n",
      "      dtype='object')\n"
     ]
    },
    {
     "data": {
      "text/html": [
       "<div>\n",
       "<style scoped>\n",
       "    .dataframe tbody tr th:only-of-type {\n",
       "        vertical-align: middle;\n",
       "    }\n",
       "\n",
       "    .dataframe tbody tr th {\n",
       "        vertical-align: top;\n",
       "    }\n",
       "\n",
       "    .dataframe thead th {\n",
       "        text-align: right;\n",
       "    }\n",
       "</style>\n",
       "<table border=\"1\" class=\"dataframe\">\n",
       "  <thead>\n",
       "    <tr style=\"text-align: right;\">\n",
       "      <th></th>\n",
       "      <th>objid</th>\n",
       "      <th>ra</th>\n",
       "      <th>dec</th>\n",
       "      <th>u</th>\n",
       "      <th>g</th>\n",
       "      <th>r</th>\n",
       "      <th>i</th>\n",
       "      <th>z</th>\n",
       "      <th>run</th>\n",
       "      <th>rerun</th>\n",
       "      <th>camcol</th>\n",
       "      <th>field</th>\n",
       "      <th>specobjid</th>\n",
       "      <th>class</th>\n",
       "      <th>redshift</th>\n",
       "      <th>plate</th>\n",
       "      <th>mjd</th>\n",
       "      <th>fiberid</th>\n",
       "    </tr>\n",
       "  </thead>\n",
       "  <tbody>\n",
       "    <tr>\n",
       "      <th>0</th>\n",
       "      <td>1237666301628060000</td>\n",
       "      <td>47.372545</td>\n",
       "      <td>0.820621</td>\n",
       "      <td>18.69254</td>\n",
       "      <td>17.13867</td>\n",
       "      <td>16.55555</td>\n",
       "      <td>16.34662</td>\n",
       "      <td>16.17639</td>\n",
       "      <td>4849</td>\n",
       "      <td>301</td>\n",
       "      <td>5</td>\n",
       "      <td>771</td>\n",
       "      <td>8168632633242440000</td>\n",
       "      <td>STAR</td>\n",
       "      <td>0.000115</td>\n",
       "      <td>7255</td>\n",
       "      <td>56597</td>\n",
       "      <td>832</td>\n",
       "    </tr>\n",
       "    <tr>\n",
       "      <th>1</th>\n",
       "      <td>1237673706652430000</td>\n",
       "      <td>116.303083</td>\n",
       "      <td>42.455980</td>\n",
       "      <td>18.47633</td>\n",
       "      <td>17.30546</td>\n",
       "      <td>17.24116</td>\n",
       "      <td>17.32780</td>\n",
       "      <td>17.37114</td>\n",
       "      <td>6573</td>\n",
       "      <td>301</td>\n",
       "      <td>6</td>\n",
       "      <td>220</td>\n",
       "      <td>9333948945297330000</td>\n",
       "      <td>STAR</td>\n",
       "      <td>-0.000093</td>\n",
       "      <td>8290</td>\n",
       "      <td>57364</td>\n",
       "      <td>868</td>\n",
       "    </tr>\n",
       "    <tr>\n",
       "      <th>2</th>\n",
       "      <td>1237671126974140000</td>\n",
       "      <td>172.756623</td>\n",
       "      <td>-8.785698</td>\n",
       "      <td>16.47714</td>\n",
       "      <td>15.31072</td>\n",
       "      <td>15.55971</td>\n",
       "      <td>15.72207</td>\n",
       "      <td>15.82471</td>\n",
       "      <td>5973</td>\n",
       "      <td>301</td>\n",
       "      <td>1</td>\n",
       "      <td>13</td>\n",
       "      <td>3221211255238850000</td>\n",
       "      <td>STAR</td>\n",
       "      <td>0.000165</td>\n",
       "      <td>2861</td>\n",
       "      <td>54583</td>\n",
       "      <td>42</td>\n",
       "    </tr>\n",
       "  </tbody>\n",
       "</table>\n",
       "</div>"
      ],
      "text/plain": [
       "                 objid          ra        dec         u         g         r  \\\n",
       "0  1237666301628060000   47.372545   0.820621  18.69254  17.13867  16.55555   \n",
       "1  1237673706652430000  116.303083  42.455980  18.47633  17.30546  17.24116   \n",
       "2  1237671126974140000  172.756623  -8.785698  16.47714  15.31072  15.55971   \n",
       "\n",
       "          i         z   run  rerun  camcol  field            specobjid class  \\\n",
       "0  16.34662  16.17639  4849    301       5    771  8168632633242440000  STAR   \n",
       "1  17.32780  17.37114  6573    301       6    220  9333948945297330000  STAR   \n",
       "2  15.72207  15.82471  5973    301       1     13  3221211255238850000  STAR   \n",
       "\n",
       "   redshift  plate    mjd  fiberid  \n",
       "0  0.000115   7255  56597      832  \n",
       "1 -0.000093   8290  57364      868  \n",
       "2  0.000165   2861  54583       42  "
      ]
     },
     "execution_count": 2,
     "metadata": {},
     "output_type": "execute_result"
    }
   ],
   "source": [
    "# dataset reference: https://www.kaggle.com/datasets/muhakabartay/sloan-digital-sky-survey-dr16/code\n",
    "df = pd.read_csv('./data_sdss16/Skyserver_12_30_2019 4_49_58 PM.csv')\n",
    "\n",
    "print(df.shape)\n",
    "print(df.columns)\n",
    "df.head(3)"
   ]
  },
  {
   "cell_type": "markdown",
   "metadata": {},
   "source": [
    "### Data prep"
   ]
  },
  {
   "cell_type": "code",
   "execution_count": 3,
   "metadata": {},
   "outputs": [
    {
     "data": {
      "text/plain": [
       "GALAXY    51323\n",
       "STAR      38096\n",
       "QSO       10581\n",
       "Name: class, dtype: int64"
      ]
     },
     "execution_count": 3,
     "metadata": {},
     "output_type": "execute_result"
    }
   ],
   "source": [
    "df['class'].value_counts()"
   ]
  },
  {
   "cell_type": "markdown",
   "metadata": {},
   "source": [
    "### Create binary classification version of dataset"
   ]
  },
  {
   "cell_type": "code",
   "execution_count": 4,
   "metadata": {},
   "outputs": [],
   "source": [
    "df2 = df[ (df['class'] == 'STAR') | (df['class'] == 'GALAXY')]\n",
    "df2 = df2.reset_index(drop=True)"
   ]
  },
  {
   "cell_type": "code",
   "execution_count": 5,
   "metadata": {},
   "outputs": [
    {
     "name": "stdout",
     "output_type": "stream",
     "text": [
      "(100000, 18) (89419, 18)\n"
     ]
    }
   ],
   "source": [
    "print(df.shape, df2.shape)"
   ]
  },
  {
   "cell_type": "code",
   "execution_count": 6,
   "metadata": {},
   "outputs": [
    {
     "data": {
      "text/plain": [
       "GALAXY    51323\n",
       "STAR      38096\n",
       "Name: class, dtype: int64"
      ]
     },
     "execution_count": 6,
     "metadata": {},
     "output_type": "execute_result"
    }
   ],
   "source": [
    "df2['class'].value_counts()"
   ]
  },
  {
   "cell_type": "markdown",
   "metadata": {},
   "source": [
    "### Create feature matrix (X) and target (y) for machine learning model building"
   ]
  },
  {
   "cell_type": "code",
   "execution_count": 7,
   "metadata": {},
   "outputs": [
    {
     "name": "stdout",
     "output_type": "stream",
     "text": [
      "Index(['objid', 'ra', 'dec', 'u', 'g', 'r', 'i', 'z', 'run', 'rerun', 'camcol',\n",
      "       'field', 'specobjid', 'class', 'redshift', 'plate', 'mjd', 'fiberid'],\n",
      "      dtype='object')\n"
     ]
    },
    {
     "data": {
      "text/html": [
       "<div>\n",
       "<style scoped>\n",
       "    .dataframe tbody tr th:only-of-type {\n",
       "        vertical-align: middle;\n",
       "    }\n",
       "\n",
       "    .dataframe tbody tr th {\n",
       "        vertical-align: top;\n",
       "    }\n",
       "\n",
       "    .dataframe thead th {\n",
       "        text-align: right;\n",
       "    }\n",
       "</style>\n",
       "<table border=\"1\" class=\"dataframe\">\n",
       "  <thead>\n",
       "    <tr style=\"text-align: right;\">\n",
       "      <th></th>\n",
       "      <th>objid</th>\n",
       "      <th>ra</th>\n",
       "      <th>dec</th>\n",
       "      <th>u</th>\n",
       "      <th>g</th>\n",
       "      <th>r</th>\n",
       "      <th>i</th>\n",
       "      <th>z</th>\n",
       "      <th>run</th>\n",
       "      <th>rerun</th>\n",
       "      <th>camcol</th>\n",
       "      <th>field</th>\n",
       "      <th>specobjid</th>\n",
       "      <th>class</th>\n",
       "      <th>redshift</th>\n",
       "      <th>plate</th>\n",
       "      <th>mjd</th>\n",
       "      <th>fiberid</th>\n",
       "    </tr>\n",
       "  </thead>\n",
       "  <tbody>\n",
       "    <tr>\n",
       "      <th>0</th>\n",
       "      <td>1237666301628060000</td>\n",
       "      <td>47.372545</td>\n",
       "      <td>0.820621</td>\n",
       "      <td>18.69254</td>\n",
       "      <td>17.13867</td>\n",
       "      <td>16.55555</td>\n",
       "      <td>16.34662</td>\n",
       "      <td>16.17639</td>\n",
       "      <td>4849</td>\n",
       "      <td>301</td>\n",
       "      <td>5</td>\n",
       "      <td>771</td>\n",
       "      <td>8168632633242440000</td>\n",
       "      <td>STAR</td>\n",
       "      <td>0.000115</td>\n",
       "      <td>7255</td>\n",
       "      <td>56597</td>\n",
       "      <td>832</td>\n",
       "    </tr>\n",
       "    <tr>\n",
       "      <th>1</th>\n",
       "      <td>1237673706652430000</td>\n",
       "      <td>116.303083</td>\n",
       "      <td>42.455980</td>\n",
       "      <td>18.47633</td>\n",
       "      <td>17.30546</td>\n",
       "      <td>17.24116</td>\n",
       "      <td>17.32780</td>\n",
       "      <td>17.37114</td>\n",
       "      <td>6573</td>\n",
       "      <td>301</td>\n",
       "      <td>6</td>\n",
       "      <td>220</td>\n",
       "      <td>9333948945297330000</td>\n",
       "      <td>STAR</td>\n",
       "      <td>-0.000093</td>\n",
       "      <td>8290</td>\n",
       "      <td>57364</td>\n",
       "      <td>868</td>\n",
       "    </tr>\n",
       "    <tr>\n",
       "      <th>2</th>\n",
       "      <td>1237671126974140000</td>\n",
       "      <td>172.756623</td>\n",
       "      <td>-8.785698</td>\n",
       "      <td>16.47714</td>\n",
       "      <td>15.31072</td>\n",
       "      <td>15.55971</td>\n",
       "      <td>15.72207</td>\n",
       "      <td>15.82471</td>\n",
       "      <td>5973</td>\n",
       "      <td>301</td>\n",
       "      <td>1</td>\n",
       "      <td>13</td>\n",
       "      <td>3221211255238850000</td>\n",
       "      <td>STAR</td>\n",
       "      <td>0.000165</td>\n",
       "      <td>2861</td>\n",
       "      <td>54583</td>\n",
       "      <td>42</td>\n",
       "    </tr>\n",
       "  </tbody>\n",
       "</table>\n",
       "</div>"
      ],
      "text/plain": [
       "                 objid          ra        dec         u         g         r  \\\n",
       "0  1237666301628060000   47.372545   0.820621  18.69254  17.13867  16.55555   \n",
       "1  1237673706652430000  116.303083  42.455980  18.47633  17.30546  17.24116   \n",
       "2  1237671126974140000  172.756623  -8.785698  16.47714  15.31072  15.55971   \n",
       "\n",
       "          i         z   run  rerun  camcol  field            specobjid class  \\\n",
       "0  16.34662  16.17639  4849    301       5    771  8168632633242440000  STAR   \n",
       "1  17.32780  17.37114  6573    301       6    220  9333948945297330000  STAR   \n",
       "2  15.72207  15.82471  5973    301       1     13  3221211255238850000  STAR   \n",
       "\n",
       "   redshift  plate    mjd  fiberid  \n",
       "0  0.000115   7255  56597      832  \n",
       "1 -0.000093   8290  57364      868  \n",
       "2  0.000165   2861  54583       42  "
      ]
     },
     "execution_count": 7,
     "metadata": {},
     "output_type": "execute_result"
    }
   ],
   "source": [
    "print(df2.columns)\n",
    "df2.head(3)"
   ]
  },
  {
   "cell_type": "code",
   "execution_count": 8,
   "metadata": {},
   "outputs": [],
   "source": [
    "/#df_X = df2[[ 'ra', 'dec', 'u', 'g', 'r', 'i', 'z', 'redshift']]\n",
    "df_X = df2[[ 'ra', 'dec', 'u']]\n",
    "df_y = df2[['class']]"
   ]
  },
  {
   "cell_type": "code",
   "execution_count": 9,
   "metadata": {},
   "outputs": [
    {
     "name": "stderr",
     "output_type": "stream",
     "text": [
      "<ipython-input-9-fa768822bfc9>:3: SettingWithCopyWarning: \n",
      "A value is trying to be set on a copy of a slice from a DataFrame.\n",
      "Try using .loc[row_indexer,col_indexer] = value instead\n",
      "\n",
      "See the caveats in the documentation: https://pandas.pydata.org/pandas-docs/stable/user_guide/indexing.html#returning-a-view-versus-a-copy\n",
      "  df_y['categorical_label'] = le.transform(df_y['class'])\n",
      "<ipython-input-9-fa768822bfc9>:5: SettingWithCopyWarning: \n",
      "A value is trying to be set on a copy of a slice from a DataFrame.\n",
      "Try using .loc[row_indexer,col_indexer] = value instead\n",
      "\n",
      "See the caveats in the documentation: https://pandas.pydata.org/pandas-docs/stable/user_guide/indexing.html#returning-a-view-versus-a-copy\n",
      "  df_y['class'] = df_y['categorical_label']\n"
     ]
    }
   ],
   "source": [
    "le = preprocessing.LabelEncoder()\n",
    "le.fit(df_y['class'])\n",
    "df_y['categorical_label'] = le.transform(df_y['class'])\n",
    "\n",
    "df_y['class'] = df_y['categorical_label']\n",
    "df_y = df_y[['class']]\n",
    "\n",
    "# note: le.inverse_transform(df['categorical_label'])"
   ]
  },
  {
   "cell_type": "code",
   "execution_count": 10,
   "metadata": {},
   "outputs": [],
   "source": [
    "X_train, X_test, y_train, y_test = train_test_split(df_X, df_y, test_size=0.3)"
   ]
  },
  {
   "cell_type": "markdown",
   "metadata": {},
   "source": [
    "### For reference: gradient boosted tree (XGBoost) Model"
   ]
  },
  {
   "cell_type": "code",
   "execution_count": 1,
   "metadata": {},
   "outputs": [],
   "source": [
    "clf_xgb = xgb.XGBClassifier()\n",
    "clf_xgb.fit(X_train, y_train)"
   ]
  },
  {
   "cell_type": "code",
   "execution_count": 12,
   "metadata": {},
   "outputs": [],
   "source": [
    "y_xgb_pred = clf_xgb.predict(X_test)\n",
    "y_xgb_pred_proba = clf_xgb.predict_proba(X_test)[:, 1]"
   ]
  },
  {
   "cell_type": "code",
   "execution_count": 13,
   "metadata": {},
   "outputs": [
    {
     "name": "stdout",
     "output_type": "stream",
     "text": [
      "0.7459926936554089\n"
     ]
    }
   ],
   "source": [
    "accuracy_xgb = accuracy_score(y_test, y_xgb_pred)\n",
    "print(accuracy_xgb)"
   ]
  },
  {
   "cell_type": "code",
   "execution_count": 14,
   "metadata": {},
   "outputs": [],
   "source": [
    "auc_xgb = roc_auc_score(y_true=y_test.values, y_score=y_xgb_pred_proba)"
   ]
  },
  {
   "cell_type": "code",
   "execution_count": 15,
   "metadata": {},
   "outputs": [],
   "source": [
    "ls_model = []\n",
    "ls_auc = []\n",
    "\n",
    "ls_model = ls_model + ['XGBoost']\n",
    "ls_auc = ls_auc + [auc_xgb]"
   ]
  },
  {
   "cell_type": "code",
   "execution_count": 16,
   "metadata": {},
   "outputs": [
    {
     "data": {
      "image/png": "[encoded data removed]",
      "text/plain": [
       "<Figure size 432x288 with 1 Axes>"
      ]
     },
     "metadata": {
      "needs_background": "light"
     },
     "output_type": "display_data"
    }
   ],
   "source": [
    "xgb.plot_importance(clf_xgb);"
   ]
  },
  {
   "cell_type": "markdown",
   "metadata": {},
   "source": [
    "### Implement a weighted average ensembling strategy based on inverse model covariance"
   ]
  },
  {
   "cell_type": "code",
   "execution_count": 17,
   "metadata": {},
   "outputs": [],
   "source": [
    "#model_1 = SVC(probability=True, random_state=0)\n",
    "model_1 = tree.DecisionTreeClassifier()\n",
    "#model_2 = RandomForestClassifier()\n",
    "#model_2 = KNeighborsClassifier()\n",
    "model_2 = GaussianNB()\n",
    "model_3 = LogisticRegression()"
   ]
  },
  {
   "cell_type": "code",
   "execution_count": 18,
   "metadata": {},
   "outputs": [
    {
     "data": {
      "text/plain": [
       "['XGBoost', 'Decision Tree', 'Naive Bayes', 'Logistic Regression']"
      ]
     },
     "execution_count": 18,
     "metadata": {},
     "output_type": "execute_result"
    }
   ],
   "source": [
    "ls_model = ls_model + ['Decision Tree', 'Naive Bayes', 'Logistic Regression']\n",
    "\n",
    "ls_model"
   ]
  },
  {
   "cell_type": "code",
   "execution_count": 19,
   "metadata": {},
   "outputs": [
    {
     "name": "stderr",
     "output_type": "stream",
     "text": [
      "C:\\Users\\m85302\\Anaconda3b\\envs\\seqDarts1\\lib\\site-packages\\sklearn\\utils\\validation.py:993: DataConversionWarning: A column-vector y was passed when a 1d array was expected. Please change the shape of y to (n_samples, ), for example using ravel().\n",
      "  y = column_or_1d(y, warn=True)\n",
      "C:\\Users\\m85302\\Anaconda3b\\envs\\seqDarts1\\lib\\site-packages\\sklearn\\utils\\validation.py:993: DataConversionWarning: A column-vector y was passed when a 1d array was expected. Please change the shape of y to (n_samples, ), for example using ravel().\n",
      "  y = column_or_1d(y, warn=True)\n"
     ]
    },
    {
     "data": {
      "text/plain": [
       "LogisticRegression()"
      ]
     },
     "execution_count": 19,
     "metadata": {},
     "output_type": "execute_result"
    }
   ],
   "source": [
    "model_1.fit(X_train, y_train)\n",
    "model_2.fit(X_train, y_train)\n",
    "model_3.fit(X_train, y_train)"
   ]
  },
  {
   "cell_type": "code",
   "execution_count": 20,
   "metadata": {},
   "outputs": [],
   "source": [
    "y_pred1 = model_1.predict(X_test)\n",
    "y_pred2 = model_2.predict(X_test)\n",
    "y_pred3 = model_3.predict(X_test)"
   ]
  },
  {
   "cell_type": "code",
   "execution_count": 21,
   "metadata": {},
   "outputs": [],
   "source": [
    "y_proba_pred1 = model_1.predict_proba(X_test)[:,1]\n",
    "y_proba_pred2 = model_2.predict_proba(X_test)[:,1]\n",
    "y_proba_pred3 = model_3.predict_proba(X_test)[:,1]"
   ]
  },
  {
   "cell_type": "code",
   "execution_count": 22,
   "metadata": {
    "scrolled": true
   },
   "outputs": [
    {
     "name": "stdout",
     "output_type": "stream",
     "text": [
      "0.6958174904942965 0.6503392231417282 0.623909639901588\n"
     ]
    }
   ],
   "source": [
    "accuracy1 = accuracy_score(y_test, y_pred1)\n",
    "accuracy2 = accuracy_score(y_test, y_pred2)\n",
    "accuracy3 = accuracy_score(y_test, y_pred3)\n",
    "print(accuracy1, accuracy2, accuracy3)"
   ]
  },
  {
   "cell_type": "code",
   "execution_count": 23,
   "metadata": {},
   "outputs": [
    {
     "name": "stdout",
     "output_type": "stream",
     "text": [
      "0.6895986118104658 0.6933989273925523 0.6302292729012295\n"
     ]
    }
   ],
   "source": [
    "roc_auc_1 = roc_auc_score(y_test, y_proba_pred1)\n",
    "roc_auc_2 = roc_auc_score(y_test, y_proba_pred2)\n",
    "roc_auc_3 = roc_auc_score(y_test, y_proba_pred3)\n",
    "print(roc_auc_1, roc_auc_2, roc_auc_3)"
   ]
  },
  {
   "cell_type": "code",
   "execution_count": 24,
   "metadata": {},
   "outputs": [
    {
     "name": "stdout",
     "output_type": "stream",
     "text": [
      "['XGBoost', 'Decision Tree', 'Naive Bayes', 'Logistic Regression']\n",
      "[0.8077430096505664, 0.6895986118104658, 0.6933989273925523, 0.6302292729012295]\n"
     ]
    }
   ],
   "source": [
    "ls_auc = ls_auc + [roc_auc_1, roc_auc_2, roc_auc_3]\n",
    "\n",
    "print(ls_model)\n",
    "print(ls_auc)"
   ]
  },
  {
   "cell_type": "markdown",
   "metadata": {},
   "source": [
    "#### Implement the inverse-covariance weighted average ensembling scheme"
   ]
  },
  {
   "cell_type": "code",
   "execution_count": 25,
   "metadata": {},
   "outputs": [],
   "source": [
    "proba = np.stack([model_1.predict_proba(X_test)[:, 1],\n",
    "                  model_2.predict_proba(X_test)[:, 1],\n",
    "                  model_3.predict_proba(X_test)[:, 1]]).T"
   ]
  },
  {
   "cell_type": "code",
   "execution_count": 26,
   "metadata": {},
   "outputs": [
    {
     "name": "stdout",
     "output_type": "stream",
     "text": [
      "Weighted averaging ROC-AUC is: 0.74675\n"
     ]
    }
   ],
   "source": [
    "cormat = np.corrcoef(proba.T)\n",
    "np.fill_diagonal(cormat, 0.0)\n",
    "W = 1 / np.mean(cormat, axis=1)\n",
    "W = W / sum(W) # normalizing to sum==1.0\n",
    "weighted = proba.dot(W)\n",
    "ras = roc_auc_score(y_true=y_test, y_score=weighted)\n",
    "print(f\"Weighted averaging ROC-AUC is: {ras:0.5f}\")"
   ]
  },
  {
   "cell_type": "code",
   "execution_count": 27,
   "metadata": {},
   "outputs": [
    {
     "data": {
      "text/plain": [
       "[0.8077430096505664,\n",
       " 0.6895986118104658,\n",
       " 0.6933989273925523,\n",
       " 0.6302292729012295,\n",
       " 0.746753856623394]"
      ]
     },
     "execution_count": 27,
     "metadata": {},
     "output_type": "execute_result"
    }
   ],
   "source": [
    "ls_model = ls_model + ['Weighted Avg']\n",
    "ls_auc = ls_auc + [ras]\n",
    "\n",
    "ls_model\n",
    "ls_auc"
   ]
  },
  {
   "cell_type": "code",
   "execution_count": 28,
   "metadata": {},
   "outputs": [
    {
     "name": "stdout",
     "output_type": "stream",
     "text": [
      "['XGBoost', 'Decision Tree', 'Naive Bayes', 'Logistic Regression', 'Weighted Avg']\n"
     ]
    }
   ],
   "source": [
    "print(ls_model)"
   ]
  },
  {
   "cell_type": "code",
   "execution_count": 29,
   "metadata": {},
   "outputs": [
    {
     "data": {
      "text/html": [
       "<div>\n",
       "<style scoped>\n",
       "    .dataframe tbody tr th:only-of-type {\n",
       "        vertical-align: middle;\n",
       "    }\n",
       "\n",
       "    .dataframe tbody tr th {\n",
       "        vertical-align: top;\n",
       "    }\n",
       "\n",
       "    .dataframe thead th {\n",
       "        text-align: right;\n",
       "    }\n",
       "</style>\n",
       "<table border=\"1\" class=\"dataframe\">\n",
       "  <thead>\n",
       "    <tr style=\"text-align: right;\">\n",
       "      <th></th>\n",
       "      <th>Model</th>\n",
       "      <th>ROC-AUC</th>\n",
       "    </tr>\n",
       "  </thead>\n",
       "  <tbody>\n",
       "    <tr>\n",
       "      <th>0</th>\n",
       "      <td>Logistic Regression</td>\n",
       "      <td>0.630229</td>\n",
       "    </tr>\n",
       "    <tr>\n",
       "      <th>1</th>\n",
       "      <td>Decision Tree</td>\n",
       "      <td>0.689599</td>\n",
       "    </tr>\n",
       "    <tr>\n",
       "      <th>2</th>\n",
       "      <td>Naive Bayes</td>\n",
       "      <td>0.693399</td>\n",
       "    </tr>\n",
       "    <tr>\n",
       "      <th>3</th>\n",
       "      <td>Weighted Avg</td>\n",
       "      <td>0.746754</td>\n",
       "    </tr>\n",
       "    <tr>\n",
       "      <th>4</th>\n",
       "      <td>XGBoost</td>\n",
       "      <td>0.807743</td>\n",
       "    </tr>\n",
       "  </tbody>\n",
       "</table>\n",
       "</div>"
      ],
      "text/plain": [
       "                 Model   ROC-AUC\n",
       "0  Logistic Regression  0.630229\n",
       "1        Decision Tree  0.689599\n",
       "2          Naive Bayes  0.693399\n",
       "3         Weighted Avg  0.746754\n",
       "4              XGBoost  0.807743"
      ]
     },
     "execution_count": 29,
     "metadata": {},
     "output_type": "execute_result"
    }
   ],
   "source": [
    "df_result = pd.DataFrame({'Model': ls_model,\n",
    "                          'ROC-AUC': ls_auc\n",
    "                         })\n",
    "df_result = df_result.sort_values(by='ROC-AUC')\n",
    "df_result = df_result.reset_index(drop=True)\n",
    "\n",
    "df_result"
   ]
  },
  {
   "cell_type": "code",
   "execution_count": 30,
   "metadata": {},
   "outputs": [],
   "source": [
    "def show_values(axs, orient=\"v\", space=.01):\n",
    "    def _single(ax):\n",
    "        if orient == \"v\":\n",
    "            for p in ax.patches:\n",
    "                _x = p.get_x() + p.get_width() / 2\n",
    "                _y = p.get_y() + p.get_height() + (p.get_height()*0.01)\n",
    "                value = '{:.2f}'.format(p.get_height()) # '{:.1f}' #2f # {:.2f}\n",
    "                ax.text(_x, _y, value, ha=\"center\") \n",
    "        elif orient == \"h\":\n",
    "            for p in ax.patches:\n",
    "                _x = p.get_x() + p.get_width() + float(space)\n",
    "                _y = p.get_y() + p.get_height() - (p.get_height()*0.5) # 0.5\n",
    "                #_y = p.get_y() + p.get_height() - (p.get_height()*0.75)\n",
    "                value = '{:.3f}'.format(p.get_width())  # '{:.1f}' # 2f # '{:.3f}'\n",
    "                ax.text(_x, _y, value, ha=\"left\")\n",
    "\n",
    "    if isinstance(axs, np.ndarray):\n",
    "        for idx, ax in np.ndenumerate(axs):\n",
    "            _single(ax)\n",
    "    else:\n",
    "        _single(axs)"
   ]
  },
  {
   "cell_type": "code",
   "execution_count": 32,
   "metadata": {},
   "outputs": [
    {
     "data": {
      "image/png": "[encoded data removed]",
      "text/plain": [
       "<Figure size 792x504 with 1 Axes>"
      ]
     },
     "metadata": {},
     "output_type": "display_data"
    }
   ],
   "source": [
    "plt.figure(figsize=(11,7))\n",
    "plt.style.use('fivethirtyeight')\n",
    "plt1 = sns.barplot(x='Model', y='ROC-AUC', data=df_result, palette=\"Blues_d\")\n",
    "plt1 = show_values(plt1)"
   ]
  },
  {
   "cell_type": "markdown",
   "metadata": {},
   "source": [
    "We see that while the inverse-covariance weighted average ensembling strategy does improve over the performacne of the 3 models alone, the ensembling and normalization strategies incorporated in XGBoost prove to provide superior performance overall"
   ]
  }
 ],
 "metadata": {
  "kernelspec": {
   "display_name": "Python 3",
   "language": "python",
   "name": "python3"
  },
  "language_info": {
   "codemirror_mode": {
    "name": "ipython",
    "version": 3
   },
   "file_extension": ".py",
   "mimetype": "text/x-python",
   "name": "python",
   "nbconvert_exporter": "python",
   "pygments_lexer": "ipython3",
   "version": "3.8.5"
  }
 },
 "nbformat": 4,
 "nbformat_minor": 5
}
